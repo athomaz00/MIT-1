{
 "metadata": {
  "name": ""
 },
 "nbformat": 3,
 "nbformat_minor": 0,
 "worksheets": [
  {
   "cells": [
    {
     "cell_type": "heading",
     "level": 1,
     "metadata": {},
     "source": [
      "Estimating Parameters Using Confidence Intervals"
     ]
    },
    {
     "cell_type": "heading",
     "level": 2,
     "metadata": {},
     "source": [
      "Contrasting A Point Estimate With A Confidence Interval"
     ]
    },
    {
     "cell_type": "markdown",
     "metadata": {},
     "source": [
      "When you take a sample from a population and compute the mean you get a **point estimate** for the population mean. However, if you were to do the same thing again, but with a different sample, you would probably get a different point estimate. A point estimate gives you an estimation that is usually wrong.\n",
      "\n",
      "**Confidence intervals** are a solution to this problem. Confidence intervals don't give you one point. They give a range of values that the statistic being estimated is likely to be between. I say likely, because they also come with estimations of confidence. Confidence intervals let you say, \"The parameter lies between seven and ten with 90% confidence.\" The 90% confidence portion of that statement would usually be called a **level of confidence**. Confidence intervals can be thought of as a point estimate plus or minus a **margin of error**."
     ]
    },
    {
     "cell_type": "heading",
     "level": 2,
     "metadata": {},
     "source": [
      "Constructing A Confidence Interval"
     ]
    },
    {
     "cell_type": "markdown",
     "metadata": {},
     "source": [
      "It is possible to construct a confidence interval without knowing the standard deviation of a set of data. However, constructing a confidence interval with a set of data makes it far easier to understand the concept. So below I'm going to construct a confidence interval that estimates a parameter from a population for which the standard deviation is known."
     ]
    },
    {
     "cell_type": "code",
     "collapsed": false,
     "input": [
      "# Scores on the Stanford-Binet IQ tests are normally distributed with\n",
      "# mean 100 and std 15. I'm going to simulate drawing 20 samples from\n",
      "# this distribution and then use those samples to construct a confidence\n",
      "# interval at 95% level of confidence. The sample size I will use will be\n",
      "# n = 9.\n",
      "\n",
      "import numpy as np\n",
      "\n",
      "mean = 100\n",
      "std = 15\n",
      "num_samples = 20\n",
      "n = 9\n",
      "\n",
      "samples = [[np.random.normal(mean, std) for i in range(n)] for j in range(num_samples)]\n",
      "sample_means = [np.mean(sample) for sample in samples]\n",
      "\n",
      "for sample_mean in sample_means:\n",
      "    lower_bound = sample_mean - (1.96 * std / np.sqrt(n))\n",
      "    upper_bound = sample_mean + (1.96 * std / np.sqrt(n))\n",
      "    \n",
      "    print \"The mean is betweeen\", lower_bound, \"and\", upper_bound, \"with alpha=0.05\""
     ],
     "language": "python",
     "metadata": {},
     "outputs": [
      {
       "output_type": "stream",
       "stream": "stdout",
       "text": [
        "The mean is betweeen 87.5754789624 and 107.175478962 with alpha=0.5\n",
        "The mean is betweeen 94.7893501961 and 114.389350196 with alpha=0.5\n",
        "The mean is betweeen 91.1584416799 and 110.75844168 with alpha=0.5\n",
        "The mean is betweeen 83.6226309887 and 103.222630989 with alpha=0.5\n",
        "The mean is betweeen 86.2230331408 and 105.823033141 with alpha=0.5\n",
        "The mean is betweeen 96.3389707078 and 115.938970708 with alpha=0.5\n",
        "The mean is betweeen 90.2619942041 and 109.861994204 with alpha=0.5\n",
        "The mean is betweeen 87.8969248567 and 107.496924857 with alpha=0.5\n",
        "The mean is betweeen 87.9342845207 and 107.534284521 with alpha=0.5\n",
        "The mean is betweeen 86.724664459 and 106.324664459 with alpha=0.5\n",
        "The mean is betweeen 91.364768682 and 110.964768682 with alpha=0.5\n",
        "The mean is betweeen 95.0687862474 and 114.668786247 with alpha=0.5\n",
        "The mean is betweeen 85.685615887 and 105.285615887 with alpha=0.5\n",
        "The mean is betweeen 89.7217826374 and 109.321782637 with alpha=0.5\n",
        "The mean is betweeen 87.3818853401 and 106.98188534 with alpha=0.5\n",
        "The mean is betweeen 87.2437012504 and 106.84370125 with alpha=0.5\n",
        "The mean is betweeen 94.803963139 and 114.403963139 with alpha=0.5\n",
        "The mean is betweeen 92.8041391299 and 112.40413913 with alpha=0.5\n",
        "The mean is betweeen 91.0915001347 and 110.691500135 with alpha=0.5\n",
        "The mean is betweeen 94.9357798587 and 114.535779859 with alpha=0.5\n"
       ]
      }
     ],
     "prompt_number": 13
    },
    {
     "cell_type": "markdown",
     "metadata": {},
     "source": [
      "On average only 95% of the confidence intervals above will contain the population mean. That is because the statistics test is only done at $\\alpha=0.05$. Sometimes all of them will contain it. Sometimes only a few. It all depends on the sample mean, $\\bar{x}$. If you were really clever you might have noticed that I snuck in a 1.96 into the above code twice. That was a standard deviation. More aptly, it was the standard deviations between 95% of the data lay. In other words we can use a probability density function in combination with standard deviations in order to compute a confidence interval with any $\\alpha$. Below I put code that includes this lookup step."
     ]
    },
    {
     "cell_type": "code",
     "collapsed": false,
     "input": [
      "# I'm using a manually translated lookup tables that is much smaller then the one\n",
      "# in my textbook.\n",
      "\n",
      "critical_values = {0.05: 1.96, 0.1: 1.645, 0.01: 2.575}\n",
      "alpha = 0.05\n",
      "for sample_mean in sample_means:\n",
      "    z = critical_values[alpha]\n",
      "    lower_bound = sample_mean - (z * std / np.sqrt(n))\n",
      "    upper_bound = sample_mean + (z * std / np.sqrt(n))\n",
      "    \n",
      "    print \"The mean is betweeen\", lower_bound, \"and\", upper_bound, \"with alpha=0.5\"\n"
     ],
     "language": "python",
     "metadata": {},
     "outputs": [
      {
       "output_type": "stream",
       "stream": "stdout",
       "text": [
        "The mean is betweeen 87.5754789624 and 107.175478962 with alpha=0.5\n",
        "The mean is betweeen 94.7893501961 and 114.389350196 with alpha=0.5\n",
        "The mean is betweeen 91.1584416799 and 110.75844168 with alpha=0.5\n",
        "The mean is betweeen 83.6226309887 and 103.222630989 with alpha=0.5\n",
        "The mean is betweeen 86.2230331408 and 105.823033141 with alpha=0.5\n",
        "The mean is betweeen 96.3389707078 and 115.938970708 with alpha=0.5\n",
        "The mean is betweeen 90.2619942041 and 109.861994204 with alpha=0.5\n",
        "The mean is betweeen 87.8969248567 and 107.496924857 with alpha=0.5\n",
        "The mean is betweeen 87.9342845207 and 107.534284521 with alpha=0.5\n",
        "The mean is betweeen 86.724664459 and 106.324664459 with alpha=0.5\n",
        "The mean is betweeen 91.364768682 and 110.964768682 with alpha=0.5\n",
        "The mean is betweeen 95.0687862474 and 114.668786247 with alpha=0.5\n",
        "The mean is betweeen 85.685615887 and 105.285615887 with alpha=0.5\n",
        "The mean is betweeen 89.7217826374 and 109.321782637 with alpha=0.5\n",
        "The mean is betweeen 87.3818853401 and 106.98188534 with alpha=0.5\n",
        "The mean is betweeen 87.2437012504 and 106.84370125 with alpha=0.5\n",
        "The mean is betweeen 94.803963139 and 114.403963139 with alpha=0.5\n",
        "The mean is betweeen 92.8041391299 and 112.40413913 with alpha=0.5\n",
        "The mean is betweeen 91.0915001347 and 110.691500135 with alpha=0.5\n",
        "The mean is betweeen 94.9357798587 and 114.535779859 with alpha=0.5\n"
       ]
      }
     ],
     "prompt_number": 15
    }
   ],
   "metadata": {}
  }
 ]
}