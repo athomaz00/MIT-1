{
 "metadata": {
  "name": ""
 },
 "nbformat": 3,
 "nbformat_minor": 0,
 "worksheets": [
  {
   "cells": [
    {
     "cell_type": "heading",
     "level": 1,
     "metadata": {},
     "source": [
      "Estimating Parameters Using Confidence Intervals"
     ]
    },
    {
     "cell_type": "heading",
     "level": 2,
     "metadata": {},
     "source": [
      "Contrasting A Point Estimate With A Confidence Interval"
     ]
    },
    {
     "cell_type": "markdown",
     "metadata": {},
     "source": [
      "When you take a sample from a population and compute the mean you get a **point estimate** for the population mean. However, if you were to do the same thing again, but with a different sample, you would probably get a different point estimate. A point estimate gives you an estimation that is usually wrong.\n",
      "\n",
      "**Confidence intervals** are a solution to this problem. Confidence intervals don't give you one point. They give a range of values that the statistic being estimated is likely to be between. I say likely, because they also come with estimations of confidence. Confidence intervals let you say, \"The parameter lies between seven and ten with 90% confidence.\" The 90% confidence portion of that statement would usually be called a **level of confidence**. Confidence intervals can be thought of as a point estimate plus or minus a **margin of error**."
     ]
    },
    {
     "cell_type": "heading",
     "level": 2,
     "metadata": {},
     "source": [
      "Constructing A Confidence Interval"
     ]
    },
    {
     "cell_type": "markdown",
     "metadata": {},
     "source": [
      "It is possible to construct a confidence interval without knowing the standard deviation of a set of data. However, constructing a confidence interval with a set of data makes it far easier to understand the concept. So below I'm going to construct a confidence interval that estimates a parameter from a population for which the standard deviation is known."
     ]
    },
    {
     "cell_type": "code",
     "collapsed": false,
     "input": [
      "# Scores on the Stanford-Binet IQ tests are normally distributed with\n",
      "# mean 100 and std 15. I'm going to simulate drawing 20 samples from\n",
      "# this distribution and then use those samples to construct a confidence\n",
      "# interval at 95% level of confidence. The sample size I will use will be\n",
      "# n = 9.\n",
      "\n",
      "import numpy as np\n",
      "\n",
      "mean = 100\n",
      "std = 15\n",
      "num_samples = 20\n",
      "n = 9\n",
      "\n",
      "samples = [[np.random.normal(mean, std) for i in range(n)] for j in range(num_samples)]\n",
      "sample_means = [np.mean(sample) for sample in samples]\n",
      "\n",
      "for sample_mean in sample_means:\n",
      "    lower_bound = sample_mean - (1.96 * std / np.sqrt(n))\n",
      "    upper_bound = sample_mean + (1.96 * std / np.sqrt(n))\n",
      "    \n",
      "    print \"The mean is betweeen\", lower_bound, \"and\", upper_bound, \"with alpha=0.05\""
     ],
     "language": "python",
     "metadata": {},
     "outputs": [
      {
       "output_type": "stream",
       "stream": "stdout",
       "text": [
        "The mean is betweeen 89.3760333921 and 108.976033392 with alpha=0.05\n",
        "The mean is betweeen 85.4245074087 and 105.024507409 with alpha=0.05\n",
        "The mean is betweeen 83.8167024392 and 103.416702439 with alpha=0.05\n",
        "The mean is betweeen 93.9767620018 and 113.576762002 with alpha=0.05\n",
        "The mean is betweeen 97.1494157344 and 116.749415734 with alpha=0.05\n",
        "The mean is betweeen 88.5631141713 and 108.163114171 with alpha=0.05\n",
        "The mean is betweeen 88.7502649263 and 108.350264926 with alpha=0.05\n",
        "The mean is betweeen 97.3836324782 and 116.983632478 with alpha=0.05\n",
        "The mean is betweeen 86.0760481226 and 105.676048123 with alpha=0.05\n",
        "The mean is betweeen 95.1329621382 and 114.732962138 with alpha=0.05\n",
        "The mean is betweeen 90.5371398851 and 110.137139885 with alpha=0.05\n",
        "The mean is betweeen 91.3958481733 and 110.995848173 with alpha=0.05\n",
        "The mean is betweeen 86.8253471051 and 106.425347105 with alpha=0.05\n",
        "The mean is betweeen 84.8898077565 and 104.489807756 with alpha=0.05\n",
        "The mean is betweeen 94.9785193738 and 114.578519374 with alpha=0.05\n",
        "The mean is betweeen 86.0748323957 and 105.674832396 with alpha=0.05\n",
        "The mean is betweeen 90.4079265813 and 110.007926581 with alpha=0.05\n",
        "The mean is betweeen 90.0280543698 and 109.62805437 with alpha=0.05\n",
        "The mean is betweeen 83.3457427546 and 102.945742755 with alpha=0.05\n",
        "The mean is betweeen 89.1346407916 and 108.734640792 with alpha=0.05\n"
       ]
      }
     ],
     "prompt_number": 47
    },
    {
     "cell_type": "markdown",
     "metadata": {},
     "source": [
      "On average only 95% of the confidence intervals above will contain the population mean. That is because the statistics test is only done at $\\alpha=0.05$. Sometimes all of them will contain it. Sometimes only a few. It all depends on the sample mean, $\\bar{x}$. If you were really clever you might have noticed that I snuck in a 1.96 into the above code twice. That was a standard deviation. More aptly, it was the standard deviations between 95% of the data lay. In other words we can use a probability density function in combination with standard deviations in order to compute a confidence interval with any $\\alpha$. Below I put code that includes this lookup step."
     ]
    },
    {
     "cell_type": "code",
     "collapsed": false,
     "input": [
      "# I'm using a manually translated lookup tables that is much smaller then the one\n",
      "# in my textbook.\n",
      "\n",
      "critical_values = {0.05: 1.96, 0.1: 1.645, 0.01: 2.575}\n",
      "alpha = 0.05\n",
      "for sample_mean in sample_means:\n",
      "    z = critical_values[alpha]\n",
      "    lower_bound = sample_mean - (z * std / np.sqrt(n))\n",
      "    upper_bound = sample_mean + (z * std / np.sqrt(n))\n",
      "    \n",
      "    print \"The mean is betweeen\", lower_bound, \"and\", upper_bound, \"with alpha=0.05\"\n"
     ],
     "language": "python",
     "metadata": {},
     "outputs": [
      {
       "output_type": "stream",
       "stream": "stdout",
       "text": [
        "The mean is betweeen 89.3760333921 and 108.976033392 with alpha=0.05\n",
        "The mean is betweeen 85.4245074087 and 105.024507409 with alpha=0.05\n",
        "The mean is betweeen 83.8167024392 and 103.416702439 with alpha=0.05\n",
        "The mean is betweeen 93.9767620018 and 113.576762002 with alpha=0.05\n",
        "The mean is betweeen 97.1494157344 and 116.749415734 with alpha=0.05\n",
        "The mean is betweeen 88.5631141713 and 108.163114171 with alpha=0.05\n",
        "The mean is betweeen 88.7502649263 and 108.350264926 with alpha=0.05\n",
        "The mean is betweeen 97.3836324782 and 116.983632478 with alpha=0.05\n",
        "The mean is betweeen 86.0760481226 and 105.676048123 with alpha=0.05\n",
        "The mean is betweeen 95.1329621382 and 114.732962138 with alpha=0.05\n",
        "The mean is betweeen 90.5371398851 and 110.137139885 with alpha=0.05\n",
        "The mean is betweeen 91.3958481733 and 110.995848173 with alpha=0.05\n",
        "The mean is betweeen 86.8253471051 and 106.425347105 with alpha=0.05\n",
        "The mean is betweeen 84.8898077565 and 104.489807756 with alpha=0.05\n",
        "The mean is betweeen 94.9785193738 and 114.578519374 with alpha=0.05\n",
        "The mean is betweeen 86.0748323957 and 105.674832396 with alpha=0.05\n",
        "The mean is betweeen 90.4079265813 and 110.007926581 with alpha=0.05\n",
        "The mean is betweeen 90.0280543698 and 109.62805437 with alpha=0.05\n",
        "The mean is betweeen 83.3457427546 and 102.945742755 with alpha=0.05\n",
        "The mean is betweeen 89.1346407916 and 108.734640792 with alpha=0.05\n"
       ]
      }
     ],
     "prompt_number": 48
    },
    {
     "cell_type": "heading",
     "level": 2,
     "metadata": {},
     "source": [
      "Contrasting Again"
     ]
    },
    {
     "cell_type": "markdown",
     "metadata": {},
     "source": [
      "We know that the margin of error with a known confidence interval is $z_\\frac{\\alpha}{2}\\frac{\\sigma}{\\sqrt{n}}$. It might seem reasonable to replace the standard deviation with the sample standard deviation $s$. It turns out that you can't do this. The distribution changes when you do this. It is no longer normal. Instead it follows something called **Student's T-Distribution**. Student in this case doesn't stand for anything related to an actual student. It is just a pen name of the man who discovered it, William Sealey Gosset.\n",
      "\n",
      "The t-distribution lets you compute something called a t-statistic using the formula:\n",
      "\n",
      "\n",
      "$$t=\\frac{\\bar{x}-\\mu}{\\frac{s}{\\sqrt{n}}}$$\n",
      "\n",
      "\n",
      "This is then used in conjunction with the degree of freedom to lookup a probability distribution table. The degree of freedom is merely $n-1$.\n"
     ]
    },
    {
     "cell_type": "code",
     "collapsed": false,
     "input": [
      "%matplotlib inline\n",
      "from matplotlib import pyplot as plt\n",
      "\n",
      "mean = 50\n",
      "std = 10\n",
      "num_samples = 1000\n",
      "sample_size = 5\n",
      "\n",
      "samples = [np.random.normal(mean, std, sample_size) for i in range(num_samples)]\n",
      "\n",
      "def z_score(sample, population_mean, population_std, sample_size):\n",
      "    \"\"\"\n",
      "    Returns a z_score of a given sample.\n",
      "    \"\"\"\n",
      "    sample_mean = np.mean(sample)\n",
      "    return (sample_mean - population_mean) / (population_std / np.sqrt(sample_size))\n",
      "\n",
      "\n",
      "def t_score(sample, population_mean, sample_size):\n",
      "    \"\"\"\n",
      "    Returns the t_score of a given sample.\n",
      "    \"\"\"\n",
      "    sample_mean = np.mean(sample)\n",
      "    sample_std = np.std(sample)\n",
      "    return (sample_mean - population_mean) / (sample_std / np.sqrt(sample_size))\n",
      "\n",
      "z_scores = [z_score(sample, mean, std, sample_size) for sample in samples]\n",
      "t_scores = [t_score(sample, mean, sample_size) for sample in samples]\n",
      "\n",
      "plt.title(\"Z Histogram\")\n",
      "plt.ylabel(\"Density\")\n",
      "plt.xlabel(\"z score\")\n",
      "plt.xlim(-10, 10)\n",
      "plt.hist(z_scores, normed=True)\n",
      "\n",
      "\n",
      "plt.figure()\n",
      "plt.title(\"T Histogram\")\n",
      "plt.ylabel(\"Density\")\n",
      "plt.xlabel(\"t score\")\n",
      "plt.xlim(-10, 10)\n",
      "plt.hist(t_scores, normed=True)\n",
      "plt.show()\n",
      "\n"
     ],
     "language": "python",
     "metadata": {},
     "outputs": [
      {
       "metadata": {},
       "output_type": "display_data",
       "png": "[encoded data removed]",
       "text": [
        "<matplotlib.figure.Figure at 0x5ce0510>"
       ]
      },
      {
       "metadata": {},
       "output_type": "display_data",
       "png": "[encoded data removed]",
       "text": [
        "<matplotlib.figure.Figure at 0x5cac250>"
       ]
      }
     ],
     "prompt_number": 49
    },
    {
     "cell_type": "markdown",
     "metadata": {},
     "source": [
      "In the above graphs I note that the dispersion of the t-score is greater then the dispersion of the z-score. Likely due to the fact that their is more places for sampling to change the result in the t-score then in the z-score."
     ]
    },
    {
     "cell_type": "heading",
     "level": 2,
     "metadata": {},
     "source": [
      "Properties of the t-Distribution"
     ]
    },
    {
     "cell_type": "markdown",
     "metadata": {},
     "source": [
      "1. The t-distribution is different for each degree of freedom.\n",
      "2. The t-distribution is centered at 0 and is symmetric at 0.\n",
      "3. The area under its curve is 1.\n",
      "4. As t increases without bound, the graph approaches, but doesn't equal zero.\n",
      "5. The trails in this distribution are longer then the trails in the normal distribution.\n",
      "6. As the sample size increases the curve of t gets closer to the standard normal density curve."
     ]
    },
    {
     "cell_type": "code",
     "collapsed": false,
     "input": [],
     "language": "python",
     "metadata": {},
     "outputs": []
    }
   ],
   "metadata": {}
  }
 ]
}